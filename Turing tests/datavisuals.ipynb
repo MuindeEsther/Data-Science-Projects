{
 "cells": [
  {
   "cell_type": "code",
   "execution_count": null,
   "metadata": {},
   "outputs": [],
   "source": [
    "import numpy as np\n",
    "import pandas as pd\n",
    "import matplotlib.pyplot as plt\n",
    "cardio_aclo = pd.read_excel('C:/Users/PYTHON/Data Science Projects/Turing tests/input/cardio_alco.csv')\n",
    "cardio_base = pd.read_excel('C:/Users/PYTHON/Data Science Projects/Turing tests/input/cardio_base.csv')\n",
    "covid_data = pd.read_excel('C:/Users/PYTHON/Data Science Projects/Turing tests/input/covid_data.csv')\n"
   ]
  },
  {
   "cell_type": "code",
   "execution_count": null,
   "metadata": {},
   "outputs": [],
   "source": []
  }
 ],
 "metadata": {
  "kernelspec": {
   "display_name": "base",
   "language": "python",
   "name": "python3"
  },
  "language_info": {
   "name": "python",
   "version": "3.11.5"
  }
 },
 "nbformat": 4,
 "nbformat_minor": 2
}
